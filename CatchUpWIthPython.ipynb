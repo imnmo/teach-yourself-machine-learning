{
 "cells": [
  {
   "cell_type": "code",
   "execution_count": 1,
   "metadata": {
    "collapsed": false
   },
   "outputs": [
    {
     "ename": "SyntaxError",
     "evalue": "Missing parentheses in call to 'print' (<ipython-input-1-3a9a2a56efa8>, line 1)",
     "traceback": [
      "\u001b[0;36m  File \u001b[0;32m\"<ipython-input-1-3a9a2a56efa8>\"\u001b[0;36m, line \u001b[0;32m1\u001b[0m\n\u001b[0;31m    print \"hello python again\"\u001b[0m\n\u001b[0m                             ^\u001b[0m\n\u001b[0;31mSyntaxError\u001b[0m\u001b[0;31m:\u001b[0m Missing parentheses in call to 'print'\n"
     ],
     "output_type": "error"
    }
   ],
   "source": [
    "print \"hello python again\""
   ]
  },
  {
   "cell_type": "code",
   "execution_count": null,
   "metadata": {
    "collapsed": true
   },
   "outputs": [],
   "source": [
    ""
   ]
  },
  {
   "cell_type": "code",
   "execution_count": 2,
   "metadata": {
    "collapsed": false
   },
   "outputs": [
    {
     "name": "stdout",
     "output_type": "stream",
     "text": [
      "hello python again\n"
     ]
    }
   ],
   "source": [
    "print (\"hello python again\")"
   ]
  },
  {
   "cell_type": "code",
   "execution_count": 3,
   "metadata": {
    "collapsed": true
   },
   "outputs": [],
   "source": [
    "###Let's create a shopping list"
   ]
  },
  {
   "cell_type": "code",
   "execution_count": 4,
   "metadata": {
    "collapsed": true
   },
   "outputs": [],
   "source": [
    "shopping_list={\"tomato\",\"onion\",\"fish\"}"
   ]
  },
  {
   "cell_type": "code",
   "execution_count": 5,
   "metadata": {
    "collapsed": false
   },
   "outputs": [
    {
     "ename": "SyntaxError",
     "evalue": "Missing parentheses in call to 'print' (<ipython-input-5-d0084345b23e>, line 1)",
     "traceback": [
      "\u001b[0;36m  File \u001b[0;32m\"<ipython-input-5-d0084345b23e>\"\u001b[0;36m, line \u001b[0;32m1\u001b[0m\n\u001b[0;31m    print shopping_list\u001b[0m\n\u001b[0m                      ^\u001b[0m\n\u001b[0;31mSyntaxError\u001b[0m\u001b[0;31m:\u001b[0m Missing parentheses in call to 'print'\n"
     ],
     "output_type": "error"
    }
   ],
   "source": [
    "print shopping_list"
   ]
  },
  {
   "cell_type": "code",
   "execution_count": 6,
   "metadata": {
    "collapsed": false
   },
   "outputs": [
    {
     "name": "stdout",
     "output_type": "stream",
     "text": [
      "{'onion', 'tomato', 'fish'}\n"
     ]
    }
   ],
   "source": [
    "print (shopping_list)"
   ]
  },
  {
   "cell_type": "code",
   "execution_count": 7,
   "metadata": {
    "collapsed": true
   },
   "outputs": [],
   "source": [
    "f = open(\"months.txt\")"
   ]
  },
  {
   "cell_type": "code",
   "execution_count": 8,
   "metadata": {
    "collapsed": false
   },
   "outputs": [
    {
     "name": "stdout",
     "output_type": "stream",
     "text": [
      "<built-in method read of _io.TextIOWrapper object at 0x7f4031f7fc18>\n"
     ]
    }
   ],
   "source": [
    "print(f.read);"
   ]
  },
  {
   "cell_type": "code",
   "execution_count": 9,
   "metadata": {
    "collapsed": false
   },
   "outputs": [
    {
     "name": "stdout",
     "output_type": "stream",
     "text": [
      "<built-in method read of _io.TextIOWrapper object at 0x7f4031f7fc18>\n"
     ]
    }
   ],
   "source": [
    "print(f.read)"
   ]
  },
  {
   "cell_type": "code",
   "execution_count": 10,
   "metadata": {
    "collapsed": false
   },
   "outputs": [
    {
     "name": "stdout",
     "output_type": "stream",
     "text": [
      "J\n",
      "a\n",
      "n\n",
      "u\n",
      "a\n",
      "r\n",
      "y\n",
      "\n",
      "\n",
      "F\n",
      "e\n",
      "b\n",
      "r\n",
      "u\n",
      "a\n",
      "r\n",
      "y\n",
      "\n",
      "\n",
      "M\n",
      "a\n",
      "r\n",
      "c\n",
      "h\n",
      "\n",
      "\n",
      "A\n",
      "p\n",
      "r\n",
      "i\n",
      "l\n",
      "\n",
      "\n",
      "M\n",
      "a\n",
      "y\n",
      "\n",
      "\n",
      "J\n",
      "u\n",
      "n\n",
      "e\n",
      "\n",
      "\n",
      "J\n",
      "u\n",
      "l\n",
      "y\n",
      "\n",
      "\n",
      "A\n",
      "u\n",
      "g\n",
      "u\n",
      "s\n",
      "t\n",
      "\n",
      "\n",
      "S\n",
      "e\n",
      "p\n",
      "t\n",
      "e\n",
      "m\n",
      "b\n",
      "e\n",
      "r\n",
      "\n",
      "\n",
      "O\n",
      "c\n",
      "t\n",
      "o\n",
      "b\n",
      "e\n",
      "r\n",
      "\n",
      "\n",
      "N\n",
      "o\n",
      "v\n",
      "e\n",
      "m\n",
      "b\n",
      "e\n",
      "r\n",
      "\n",
      "\n",
      "D\n",
      "e\n",
      "c\n",
      "e\n",
      "m\n",
      "b\n",
      "e\n",
      "r\n"
     ]
    }
   ],
   "source": [
    "f = open(\"months.txt\")\n",
    "next = f.read(1)\n",
    "while next != \"\":\n",
    "    print(next)\n",
    "    next = f.read(1)"
   ]
  },
  {
   "cell_type": "code",
   "execution_count": 11,
   "metadata": {
    "collapsed": false
   },
   "outputs": [
    {
     "name": "stdout",
     "output_type": "stream",
     "text": [
      "Ja\n",
      "nu\n",
      "ar\n",
      "y\n",
      "\n",
      "Fe\n",
      "br\n",
      "ua\n",
      "ry\n",
      "\n",
      "M\n",
      "ar\n",
      "ch\n",
      "\n",
      "A\n",
      "pr\n",
      "il\n",
      "\n",
      "M\n",
      "ay\n",
      "\n",
      "J\n",
      "un\n",
      "e\n",
      "\n",
      "Ju\n",
      "ly\n",
      "\n",
      "A\n",
      "ug\n",
      "us\n",
      "t\n",
      "\n",
      "Se\n",
      "pt\n",
      "em\n",
      "be\n",
      "r\n",
      "\n",
      "Oc\n",
      "to\n",
      "be\n",
      "r\n",
      "\n",
      "No\n",
      "ve\n",
      "mb\n",
      "er\n",
      "\n",
      "D\n",
      "ec\n",
      "em\n",
      "be\n",
      "r\n"
     ]
    }
   ],
   "source": [
    "f = open(\"months.txt\")\n",
    "next = f.read(2)\n",
    "while next != \"\":\n",
    "    print(next)\n",
    "    next = f.read(2)"
   ]
  },
  {
   "cell_type": "code",
   "execution_count": 12,
   "metadata": {
    "collapsed": false
   },
   "outputs": [
    {
     "name": "stdout",
     "output_type": "stream",
     "text": [
      "January\n",
      "February\n",
      "March\n",
      "April\n",
      "May\n",
      "June\n",
      "July\n",
      "August\n",
      "September\n",
      "October\n",
      "November\n",
      "December\n"
     ]
    }
   ],
   "source": [
    "f = open(\"months.txt\")\n",
    "next = f.read()\n",
    "while next != \"\":\n",
    "    print(next)\n",
    "    next = f.read()"
   ]
  },
  {
   "cell_type": "code",
   "execution_count": 13,
   "metadata": {
    "collapsed": false
   },
   "outputs": [
    {
     "name": "stdout",
     "output_type": "stream",
     "text": [
      "['January\\n', 'February\\n', 'March\\n', 'April\\n', 'May\\n', 'June\\n', 'July\\n', 'August\\n', 'September\\n', 'October\\n', 'November\\n', 'December']\n"
     ]
    }
   ],
   "source": [
    "##read everylines\n",
    "f = open(\"months.txt\")\n",
    "print(f.readlines())"
   ]
  },
  {
   "cell_type": "code",
   "execution_count": 14,
   "metadata": {
    "collapsed": false
   },
   "outputs": [
    {
     "name": "stdout",
     "output_type": "stream",
     "text": [
      "Month January\n",
      "Month February\n",
      "Month March\n",
      "Month April\n",
      "Month May\n",
      "Month June\n",
      "Month July\n",
      "Month August\n",
      "Month September\n",
      "Month October\n",
      "Month November\n",
      "Month December\n"
     ]
    }
   ],
   "source": [
    "f = open(\"months.txt\")\n",
    "for month in f.readlines():\n",
    "   print(\"Month \" + month.strip())"
   ]
  },
  {
   "cell_type": "code",
   "execution_count": 15,
   "metadata": {
    "collapsed": false
   },
   "outputs": [
    {
     "name": "stdout",
     "output_type": "stream",
     "text": [
      "Month January\n",
      "Month February\n",
      "Month March\n",
      "Month April\n",
      "Month May\n",
      "Month June\n",
      "Month July\n",
      "Month August\n",
      "Month September\n",
      "Month October\n",
      "Month November\n",
      "Month December\n"
     ]
    }
   ],
   "source": [
    "## just a beauty\n",
    "\n",
    "f = open(\"months.txt\")\n",
    "for month in f:\n",
    "   print(\"Month \" + month.strip())"
   ]
  },
  {
   "cell_type": "code",
   "execution_count": 1,
   "metadata": {
    "collapsed": true
   },
   "outputs": [],
   "source": [
    "for line in open(\"radishsurvey.txt\"):\n",
    "    line = line.strip()\n",
    "    # Do something with each line"
   ]
  },
  {
   "cell_type": "code",
   "execution_count": 2,
   "metadata": {
    "collapsed": false
   },
   "outputs": [
    {
     "name": "stdout",
     "output_type": "stream",
     "text": [
      "eliana baresi - white icicle\n"
     ]
    }
   ],
   "source": [
    "print(line)"
   ]
  },
  {
   "cell_type": "code",
   "execution_count": 3,
   "metadata": {
    "collapsed": false
   },
   "outputs": [
    {
     "name": "stdout",
     "output_type": "stream",
     "text": [
      "Evie Pulsford - April Cross\n",
      "Matilda Condon - April Cross\n",
      "Samantha Mansell - Champion\n",
      "geronima trevisani - cherry belle\n",
      "Alexandra Shoebridge - Snow Belle\n",
      "Sarah Ahuia Ova - Snow Belle\n",
      "Emma Slattery - Bunny Tail\n",
      "Fabiana  Milanesi - Champion\n",
      "Makayla McMinn - Snow Belle\n",
      "Julian O'Leary - Sicily Giant\n",
      "Hannah Collie - Bunny Tail\n",
      "Toby Lundie - Plum Purple\n",
      "Baldo Palerma - Champion\n",
      "Phoebe Barwell - Plum Purple\n",
      "Sheng Shen - Champion\n",
      "Jonathan Rolph - Snow Belle\n",
      "Aaron Yarnold - Red King\n",
      "Indiana angwin -  Daikon\n",
      "Luke Komine - White Icicle\n",
      "Blake Ricardo - Daikon\n",
      "Mikayla Biddell - Daikon\n",
      "Piper Wheelwright - Bunny Tail\n",
      "Bailey Derrington - White Icicle\n",
      "Eufrosina Ferri - Daikon\n",
      "Madeleine Abrahams - Daikon\n",
      "Indiana Cowper - Sicily Giant\n",
      "Procopio Zito - Red King\n",
      "Ryan Langley - French Breakfast\n",
      "anthony Gairdner - French Breakfast\n",
      "Darcy Kayser - Champion\n",
      "Adelmo De Luca - Plum Purple\n",
      "Sienna Hovell - Champion\n",
      "Mary Cardell - April Cross\n",
      "Ebony Agnes - Daikon\n",
      "Lola Atkinson - Plum Purple\n",
      "Jonathan Walton - Champion\n",
      "Tristan Gwynn - Red King\n",
      "Jackson Longman - Red King\n",
      "Archer Dodds - April Cross\n",
      "Lilian Burne - French Breakfast\n",
      "Ava McNaughtan - April Cross\n",
      "Nate Shelley - Daikon\n",
      "Antonia Buccho - Champion\n",
      "Kaitlyn Rudduck - Cherry Belle\n",
      "Skye Thynne - Champion\n",
      "Ethan Collings - Plum Purple\n",
      "Finn Leverrier - Plum Purple\n",
      "Lee T'an - Plum Purple\n",
      "Tyler Forbes - White Icicle\n",
      "abbey dunkley -  plum purple\n",
      "rose stacy - french breakfast\n",
      "Gianfranco Cremonesi - White Icicle\n",
      "Grace Wentworth - French Breakfast\n",
      "Cooper Menkens -  Snow Belle\n",
      "Scarlett Macdougall - French Breakfast\n",
      "Fabio Pugliesi - Bunny Tail\n",
      "Keira Wrenfordsley - Red King\n",
      "Daniel Krimper -  Plum Purple\n",
      "Anna Deniehy - April Cross\n",
      "Sabrina Beneventi - Cherry Belle\n",
      "Oliver Potts - Snow Belle\n",
      "Milla Winn - Plum Purple\n",
      "Finn Whitworth - Sicily Giant\n",
      "Sophie Keynes - Plum Purple\n",
      "Joel Brownell - Plum Purple\n",
      "Jonathan Parsons - French Breakfast\n",
      "Amelia Ellwood - Snow Belle\n",
      "Lincoln Gatehouse - Bunny Tail\n",
      "Jin Huang - Daikon\n",
      "Kuan-Yin Sun - Champion\n",
      "Tao Hsiao - White Icicle\n",
      "Emily Walters - White Icicle\n",
      "nicholas kirby - french breakfast\n",
      "Hong Tsui - April Cross\n",
      "Mikayla Fullagar - Cherry Belle\n",
      "Lola Catchpole - April Cross\n",
      "Lelia Toscani - Bunny Tail\n",
      "Natasha Prout - Cherry Belle\n",
      "Raffaello Schiavone - Red King\n",
      "Erin Stephen - Plum Purple\n",
      "Eve Peacock - Daikon\n",
      "Jordan Manning - Sicily Giant\n",
      "Tyler Lister - April Cross\n",
      "brodie agnew - daikon\n",
      "Lincoln Hirschfeld - Champion\n",
      "Ciriaca Genovesi - Bunny Tail\n",
      "Dewei Niu - Snow Belle\n",
      "Fai Teng - Bunny Tail\n",
      "Rossana Cattaneo -  Snow Belle\n",
      "Isabelle Coombes - Daikon\n",
      "Layla Hitchcock - Red King\n",
      "Ashley Brigstocke - Red King\n",
      "Lei Tai - Daikon\n",
      "Victoria Humffray - Sicily Giant\n",
      "Jake Champ - Daikon\n",
      "Ben Vosper - Cherry Belle\n",
      "Harrison Rose - Red King\n",
      "Thomas Oom - White Icicle\n",
      "Sophie Browning - Red King\n",
      "Scarlett Hughes - Bunny Tail\n",
      "Anthony Collits - Champion\n",
      "Alicia Forrest - Sicily Giant\n",
      "Riley Leakey - April Cross\n",
      "Bethany Calwell - French Breakfast\n",
      "Leo Sheil - April Cross\n",
      "Kai MacMahon - April Cross\n",
      "Rong Kuo - Champion\n",
      "Stephanie Schnaars - White Icicle\n",
      "Bethany Bardolph - French Breakfast\n",
      "Guido Beneventi - French Breakfast\n",
      "Victoria Witt - Daikon\n",
      "Jun Hsiung - Bunny Tail\n",
      "Noah Berrick - Daikon\n",
      "Beato Mazzanti - Sicily Giant\n",
      "Anna Denning - White Icicle\n",
      "Sebastian George - Cherry Belle\n",
      "Mackenzie Andrade - Champion\n",
      "Sarah Joris  - Champion\n",
      "Joel Cassell - Plum Purple\n",
      "Harrison Moowattin - Champion\n",
      "william fenner - plum purple\n",
      "Madeline Corbin - Bunny Tail\n",
      "Sebastian Davitt - Champion\n",
      "Li Qin Ch'ien - Sicily Giant\n",
      "Owen Lea - Champion\n",
      "Liam Copeland - Champion\n",
      "Brianna Eltham - Sicily Giant\n",
      "Joseph Gresswell - Sicily Giant\n",
      "Alfonsina Marchesi - April Cross\n",
      "Caitlin Houlding - Snow Belle\n",
      "Natalie Schlapp - April Cross\n",
      "Shaiming Fu - Champion\n",
      "Lisandro Monaldo - Champion\n",
      "Ruby Fox - White Icicle\n",
      "Benjamin Rankin - Snow Belle\n",
      "Connor Letters - April Cross\n",
      "Laura Macdowell - Daikon\n",
      "Jake Hervey - April Cross\n",
      "Alyssa Batman - Snow Belle\n",
      "Archer Larra - French Breakfast\n",
      "Brayden Dixon - Bunny Tail\n",
      "Kuan-Yin Kuo - Cherry Belle\n",
      "Lucy Ley - Red King\n",
      "Rachele  Russo - Cherry Belle\n",
      "Lucy Somers - Daikon\n",
      "Ella Boucaut - Champion\n",
      "Iacopo Baresi - Bunny Tail\n",
      "Ali Dedman - White Icicle\n",
      "Victoria Edinburgh - French Breakfast\n",
      "Brianna Pye - Red King\n",
      "Joel Bruce - Snow Belle\n",
      "Lola Lea - Bunny Tail\n",
      "Zachary Burford - Champion\n",
      "Gabriella Bruton - April Cross\n",
      "Finn Dunstan - Cherry Belle\n",
      "Logan Truchanas - Red King\n",
      "beau mclarty - white icicle\n",
      "Carla De Luca - Daikon\n",
      "Taylah Reynolds - Champion\n",
      "Ava Musgrave - Bunny Tail\n",
      "Jade Grimmett - Bunny Tail\n",
      "Eliza Fink - April Cross\n",
      "Charles Tearle - April Cross\n",
      "Victoria Birch - Snow Belle\n",
      "Mackenzie Geach - Plum Purple\n",
      "Charles Card - Cherry Belle\n",
      "Olivia Warnes - Sicily Giant\n",
      "Jake Murdoch - Cherry Belle\n",
      "Brayden Massina - April Cross\n",
      "Sarah Milford - White Icicle\n",
      "Lilian Pike - French Breakfast\n",
      "Blake Dakin - Champion\n",
      "Chi Hsiung - April Cross\n",
      "Ludovica Siciliano - Sicily Giant\n",
      "Rose Leahy - French Breakfast\n",
      "Nicodemo Udinese - Bunny Tail\n",
      "Amy Harriman - Sicily Giant\n",
      "Harrison Macgeorge - Red King\n",
      "Charles Mockridge - Cherry Belle\n",
      "Victoria Hardie  - Sicily Giant\n",
      "Jake Hambly - Sicily Giant\n",
      "Bartolomeo Mancini - French Breakfast\n",
      "Maya Shackleton - Snow Belle\n",
      "Hudson Dodgshun - White Icicle\n",
      "Scarlett Sullivan - Snow Belle\n",
      "Noah Doyne - April cross\n",
      "Aidan Santo - Bunny Tail\n",
      "kai emmett - bunny tail\n",
      "Christopher Gillan - Daikon\n",
      "Lara Salting - White Icicle\n",
      "Alfonso Costa - Daikon\n",
      "Mackenzie Knatchbull - Red King\n",
      "Oliver Beit - Plum Purple\n",
      "Thomas Muecke - French Breakfast\n",
      "Sabrina Li Fonti - Bunny Tail\n",
      "Jasmine Brake - Snow Belle\n",
      "Sienna Bonnor - Daikon\n",
      "Isabelle Llewelyn - Daikon\n",
      "Amelie Farber - White Icicle\n",
      "Keira Horner - Red King\n",
      "Annabelle Colechin - French Breakfast\n",
      "George Schlunke - Daikon\n",
      "Hugo Stretch - French Breakfast\n",
      "Isabella Pardey - White Icicle\n",
      "Toby Docker - Red King\n",
      "Caitlyn Hotchin - French Breakfast\n",
      "Samuel Ansell - Sicily Giant\n",
      "Prospero Milano - Champion\n",
      "Zhi Chin - White Icicle\n",
      "nate brooker - daikon\n",
      "Elizabeth McNab - April Cross\n",
      "Amelie Torpy - Champion\n",
      "Audrey Bock - Bunny Tail\n",
      "Abbey Dawson - Plum Purple\n",
      "Hugo Coppleson - Daikon\n",
      "Lilly Tait - Red King\n",
      "Archer Frederick - April Cross\n",
      "Alvisio Mazzi - April Cross\n",
      "Chloe  MacLaurin - Champion\n",
      "Georgia Bruny - April Cross\n",
      "Caitlyn Mullah - White Icicle\n",
      "Gang Chia - Red King\n",
      "Lauren Pennefather - French Breakfast\n",
      "Fang Ch'eng - Cherry Belle\n",
      "Summer Withers - Snow Belle\n",
      "Kayla Sievier - Snow Belle\n",
      "Edoardo Sal - Champion\n",
      "Layla Fossey - April Cross\n",
      "Ella Weston - Champion\n",
      "Patrick Camidge - French Breakfast\n",
      "Erin Stretton - French Breakfast\n",
      "Poppy Duggan - Champion\n",
      "Daniel Hogben - Daikon\n",
      "Wan Tsai - Snow Belle\n",
      "Olimpia Udinesi - April Cross\n",
      "Xue Fang Fu - Daikon\n",
      "Alyssa McInnes - Daikon\n",
      "Connor Morphett - Plum Purple\n",
      "Nathan Trott - French Breakfast\n",
      "Brock Brunker - Bunny Tail\n",
      "Hayden O'Connell - French Breakfast\n",
      "James  Larra - April Cross\n",
      "Eva Geiger - Plum Purple\n",
      "Taj Shackell - White Icicle\n",
      "Eliza O'Haran - Champion\n",
      "Aidan Dore - April Cross\n",
      "Aiden Reginald - Plum Purple\n",
      "Bruna Rizzo - Snow Belle\n",
      "Alex Wemyss - April Cross\n",
      "claudia westgarth - daikon\n",
      "Jett Glynde - Plum Purple\n",
      "Brooke Huffer - Daikon\n",
      "Stephanie Synan - Sicily Giant\n",
      "Salvatore Sagese - French Breakfast\n",
      "Edgardo Mazzanti - Daikon\n",
      "Brodie De Lissa - Cherry Belle\n",
      "Cai Pan - Sicily Giant\n",
      "Caitlyn Ridgeway - Sicily Giant\n",
      "Mason Dymock - Plum Purple\n",
      "Oliviero Lucchesi - Bunny Tail\n",
      "Antonietta Baresi - Cherry Belle\n",
      "Abbey Cousens - Daikon\n",
      "Hui Hsiung - Cherry Belle\n",
      "Marcus Brown - Sicily Giant\n",
      "James Poupinel - Daikon\n",
      "Lucas Tomkinson - Champion\n",
      "Xin Qian Shih - White Icicle\n",
      "Abigail Clark - White Icicle\n",
      "Archie Gilfillan - French Breakfast\n",
      "maya woolcock - april cross\n",
      "Wei Hsiao - Daikon\n",
      "Lauren Rosevear - Red King\n",
      "Eve Gargett - Snow Belle\n",
      "Cristian Pisano - Champion\n",
      "Bianca Knopwood - White Icicle\n",
      "Alyssa Loewe - Daikon\n",
      "Feng Li - French Breakfast\n",
      "Yi Min Chu - Plum Purple\n",
      "Aiden Tasman - Red King\n",
      "corinna lucchese - champion\n",
      "Taylah Shore - Cherry Belle\n",
      "nilde beneventi - french breakfast\n",
      "edward greener - bunny tail\n",
      "Nate Lodewyckx - Sicily Giant\n",
      "Mariam Langridge - Red King\n",
      "Indiana Cory - Champion\n",
      "David Rees - April Cross\n",
      "Daniel Appleton - Red King\n",
      "Luke Leeper - Red King\n",
      "Toby Spring - French Breakfast\n",
      "Cody Laffer - Red King\n",
      "Lilian Woodriff - Plum Purple\n",
      "hudson crane - sicily giant\n",
      "Anthony Wand - Bunny Tail\n",
      "Dean Mattner - Red King\n",
      "Lucinda Howarde - Sicily Giant\n",
      "Caleb Clancy - Red King\n",
      "Mia Legg - White Icicle\n",
      "Isla Mehaffey - Sicily Giant\n",
      "Cooper Lasseter - April Cross\n",
      "Indiana Scott - Cherry Belle\n",
      "Kaitlyn Kay - French Breakfast\n",
      "Abbey Aronson - April Cross\n",
      "Madeleine Hartung - Snow Belle\n",
      "Abbey Tyas - Red King\n",
      "Jacob Spowers - Snow Belle\n",
      "Brodie Fraser - French Breakfast\n",
      "Ivo Lucchesi - Champion\n",
      "Harry Wormald - French Breakfast\n",
      "Lilian Macquarie - White Icicle\n",
      "Chelsea Warby - Bunny Tail\n",
      "Eugenio Pagnotto - Sicily Giant\n",
      "Michael Hargrave - Cherry Belle\n",
      "Leda Romani - April Cross\n",
      "Christopher Walton - Champion\n",
      "Zachary Bass - White Icicle\n",
      "jorja franklyn - white icicle\n",
      "Makayla Sutton - Plum Purple\n",
      "Shu Fang Tsou - French Breakfast\n",
      "Evie Carey - Bunny Tail\n",
      "Alannah Bleakley - Bunny Tail\n",
      "Alma Longo - Cherry Belle\n",
      "Abbey Garvin - Snow Belle\n",
      "Isabella Van De Velde - Plum Purple\n",
      "scarlett price - april cross\n",
      "Beau Hauslaib - Champion\n",
      "Isabelle Mathew - Sicily Giant\n",
      "Laura Callinan - Cherry Belle\n",
      "Cody Le Rennetel - French Breakfast\n",
      "Rachel Luke - Snow Belle\n",
      "Tristan Glynde - Snow Belle\n",
      "Qiao Tien - Bunny Tail\n",
      "Alana Meares - Red King\n",
      "Xiao Chen Chiang - Sicily Giant\n",
      "Jack Finlay - Cherry Belle\n",
      "Jaxon Keen  - Plum Purple\n",
      "Jordan Catani - Plum Purple\n",
      "Piera Trevisan - Red King\n",
      "Bailey Mussen - Bunny Tail\n",
      "Hayley Coverdale - White Icicle\n",
      "Sophie Eipper - Snow Belle\n",
      "Beata Endrizzi - Daikon\n",
      "David Moynihan - White Icicle\n",
      "Andrew Martens - French Breakfast\n",
      "Nate Higgs - Red King\n",
      "Isaac Banks - Snow Belle\n",
      "Xavier Sligo - Champion\n",
      "Nathan Aird  - Plum Purple\n",
      "Cooper Monk - Bunny Tail\n",
      "Kayla Kinsella - Champion\n",
      "Sean Maclurcan - Sicily Giant\n",
      "Jett Faucett - April Cross\n",
      "Koby Mary - Red King\n",
      "Lok Fan - Champion\n",
      "Liam Burn - French Breakfast\n",
      "Ryan Skeats - Snow Belle\n",
      "Harrison Barlee - Cherry Belle\n",
      "Marcus South - Champion\n",
      "Emily Kumm -  White Icicle\n",
      "Tristan Lack - Cherry Belle\n",
      "Rebecca Godfrey - Red King\n",
      "Bailey Randell - Red King\n",
      "Emma Slater - Bunny Tail\n",
      "Ellie Eaton - Sicily Giant\n",
      "Hamish Kevin - Sicily Giant\n",
      "Bella Lyttle - Bunny Tail\n",
      "Guang Lo - April Cross\n",
      "Jai Keith - Daikon\n",
      "Lucinda Emanuel - Plum Purple\n",
      "Tayla English - Plum Purple\n",
      "Eden Petchy - Daikon\n",
      "Lee Chen - April Cross\n",
      "Angus De Mestre - White Icicle\n",
      "Maya Huish - Snow Belle\n",
      "Emily Plante - White Icicle\n",
      "Connor Fairbridge - Bunny Tail\n",
      "Lara Cawker - Champion\n",
      "Blanda Panicucci - Bunny Tail\n",
      "Napoleone Marcelo - Champion\n",
      "Georgia Gillen - Snow Belle\n",
      "Giselda Napolitano - French Breakfast\n",
      "Anthony Hugo - Red King\n",
      "Oscar Saltau - April Cross\n",
      "Ashton Pearce - Daikon\n",
      "Kiara Maxwell-Mahon - White Icicle\n",
      "Sebastian Ball - French Breakfast\n",
      "Anna Howarde - Bunny Tail\n",
      "Lauren Nisbet - Plum Purple\n",
      "Patrick Porteus - Bunny Tail\n",
      "ling tuan - Red King\n",
      "Park Ch'en - Sicily Giant\n",
      "Yi Tseng - French Breakfast\n",
      "Angelina Dangar - Snow Belle\n",
      "Carolina Cattaneo - Snow Belle\n",
      "Sean Tait - Snow Belle\n",
      "Alex Falk - White Icicle\n",
      "oliver thirkell - french breakfast\n",
      "Jesse Fairley - Champion\n",
      "Benito Cocci - Snow Belle\n",
      "Laura Samuels - Champion\n",
      "Kuan-Yin Tao - Cherry Belle\n",
      "Shi She - Champion\n",
      "Isabella Hoffnung - April Cross\n",
      "George Carandini - White Icicle\n",
      "Sarah Bindi - French Breakfast\n",
      "Andrew Quick - April Cross\n",
      "Giosuè Romano - Champion\n",
      "Eva Ruth - Plum Purple\n",
      "Koby Gabriel - Champion\n",
      "Jayden Josephson - April Cross\n",
      "Mafalda Marchesi - Snow Belle\n",
      "Gabrielle Porteus - Daikon\n",
      "Dylan Synnot - Red King\n",
      "Brooke Kisch - Bunny Tail\n",
      "Quintilia Trentini - Bunny Tail\n",
      "Taj Moonlight - Plum Purple\n",
      "Ava Sorell - Bunny Tail\n",
      "Kate Buchanan - Sicily Giant\n",
      "Stella Inwood - Cherry Belle\n",
      "Cody Glauert - Snow Belle\n",
      "Callimaco Lombardi - Champion\n",
      "ella irving - cherry belle\n",
      "Guan-yin Hsiao - Red King\n",
      "alicia muscio - april cross\n",
      "Alana Sturdee - Champion\n",
      "Makayla Fairbairn - White Icicle\n",
      "Kaitlyn Collings - Bunny Tail\n",
      "Alexis Le Hunte - Champion\n",
      "lilian andrade - bunny tail\n",
      "Alannah Housley - Bunny Tail\n",
      "Rose Peeler - Champion\n",
      "Yue Wan Yeh - White Icicle\n",
      "Evie Langwell - Snow Belle\n",
      "Zoe Jasprizza - Red King\n",
      "Ivo Sagese - April Cross\n",
      "Rory Springthorpe - Snow Belle\n",
      "hannah gabriel - red king\n",
      "Jonathan Paten - Bunny Tail\n",
      "Jessica Rapke - Sicily Giant\n",
      "Jake Sterne - Daikon\n",
      "Lola Mashman - Bunny Tail\n",
      "Chan Yen - Cherry Belle\n",
      "Timothy Beeton - White Icicle\n",
      "Joseph Hill - Daikon\n",
      "Luke Gye - Plum Purple\n",
      "Giuseppe Manna - Sicily Giant\n",
      "Matilda Wardlaw - Red King\n",
      "Hannah Dibbs - Plum Purple\n",
      "Xavier Truman - French Breakfast\n",
      "Emma Sodersten - April Cross\n",
      "Blake Sodersten - French Breakfast\n",
      "Andrew Schwarz - Cherry Belle\n",
      "Owen Montgomery - Snow Belle\n",
      "Blake Hurst - White Icicle\n",
      "Brayden Brill - Cherry Belle\n",
      "Keira Strzelecki - Champion\n",
      "Zhen Juan Tsai - White Icicle\n",
      "Mulan Kung - Red King\n",
      "Clorinda Pugliesi - Champion\n",
      "Abbey Strzelecki - French Breakfast\n",
      "Andrew Howitt - April Cross\n",
      "Sebastian Langford - Cherry  Belle\n",
      "hayley Hinchcliffe - Cherry Belle\n",
      "Ebony Anton - Sicily Giant\n",
      "Seth Reginald - April Cross\n",
      "Beau Gosling - Plum Purple\n",
      "Christopher Moss - White Icicle\n",
      "laura uhr - red king\n",
      "Jamie Faithful -  Red King\n",
      "Isaac Tennyson - Daikon\n",
      "Gemma Norton -  Sicily Giant\n",
      "Matilda Madden - Red King\n",
      "Azeglio Napolitano - Red King\n",
      "David Tomlinson - Bunny Tail\n",
      "Christian Morris - Champion\n",
      "Amy Goulburn - April Cross\n",
      "Christopher Clunies - April Cross\n",
      "annabelle armytage - daikon\n",
      "Hunter Connely - Snow Belle\n",
      "Summer Stenhouse - April Cross\n",
      "Alicia Farmer - White Icicle\n",
      "Charlotte Slattery - Red King\n",
      "Georgia Jessop - Cherry Belle\n",
      "Abby Metters - Champion\n",
      "Madeleine Behan - Snow Belle\n",
      "Hayley Kernot - Plum Purple\n",
      "Ubaldo Trevisani - Champion\n",
      "Annabelle Scarfe - Cherry Belle\n",
      "Flynn Weingarth - Sicily Giant\n",
      "Indiana Keast - April Cross\n",
      "Wang Tien - French Breakfast\n",
      "Elijah Kingsbury - Plum Purple\n",
      "henry wright - sicily giant\n",
      "Meng Ni - Snow Belle\n",
      "Sara Coffill - Sicily Giant\n",
      "Giusy Lombardi - Plum  Purple\n",
      "Egidio Mancini - Sicily Giant\n",
      "Bethany Macfarlan - Bunny Tail\n",
      "Alexis Cowlishaw - Bunny Tail\n",
      "Skye Garvin - April Cross\n",
      "Abbey Rivett - Snow Belle\n",
      "Mikayla Woollacott - Sicily Giant\n",
      "Abbey Cochran - Daikon\n",
      "Jasmine Baughan - White Icicle\n",
      "Da-Xia Liang - April Cross\n",
      "Dominic Nangle - White Icicle\n",
      "Jesse Jury - Sicily Giant\n",
      "Ruby Elias - Daikon\n",
      "David Read - Bunny Tail\n",
      "Yue Yan T'ang - April Cross\n",
      "Qiang Tsui - Cherry Belle\n",
      "Grace Parkinson - Snow Belle\n",
      "Yue Yan Hu - White Icicle\n",
      "Adele Buccho - White Icicle\n",
      "Imogen Gertrude - Bunny Tail\n",
      "Kate Cyril - April Cross\n",
      "Zoe Canning - Plum Purple\n",
      "Imogen Gaunson - Bunny Tail\n",
      "Brayden Stretch - April Cross\n",
      "Jian Ts'ao - Plum Purple\n",
      "Gabriella Titheradge - Red King\n",
      "Alexis Nesbitt - Daikon\n",
      "Galeazzo Milanesi - Champion\n",
      "Eve Everingham - Daikon\n",
      "on hê - snow belle\n",
      "Archie Mathy - White Icicle\n",
      "Skye Reynolds - French Breakfast\n",
      "Ben Denovan - April Cross\n",
      "Pia Folliero - White Icicle\n",
      "Archie Michelides - Cherry Belle\n",
      "zane pavy - bunny tail\n",
      "Ramiro Esposito - Daikon\n",
      "Brock Eames - Daikon\n",
      "Savannah Sheehan - French Breakfast\n",
      "angus christie - french breakfast\n",
      "Dominic Tregurtha - Cherry Belle\n",
      "Molly Piguenit - Plum Purple\n",
      "matthew john - snow belle\n",
      "Koby Ledger - White Icicle\n",
      "Jasper Harper - White Icicle\n",
      "William Doyle  - French Breakfast\n",
      "Taj Maria - Sicily Giant\n",
      "Michael Elliot - April Cross\n",
      "Matthew Knibbs - Sicily Giant\n",
      "Patrick Tilly - White Icicle\n",
      "Sarah Kashiwagi - Bunny Tail\n",
      "Abbey Bouton - Champion\n",
      "Kayla Sandover - Bunny Tail\n",
      "Anna Septimus - French Breakfast\n",
      "Matthew Birch - Champion\n",
      "Mikayla Kennerley - French Breakfast\n",
      "Charli Birkbeck - Daikon\n",
      "Matilda Gullett - Champion\n",
      "Ella McLellan - April Cross\n",
      "Silvia Rossi - Plum Purple\n",
      "Chan Juan Hsü - French Breakfast\n",
      "Oliver Aspinall -  Cherry Belle\n",
      "Timothy Baldwinson - Bunny Tail\n",
      "Li Wei Chien - Snow Belle\n",
      "Bethany Layh - French Breakfast\n",
      "Gang Hsu - April Cross\n",
      "Mikayla Brodney - Champion\n",
      "Kuan-Yin Mao - Daikon\n",
      "Elizabeth Minifie - Champion\n",
      "Sarah Band - Sicily Giant\n",
      "Tyson Kaberry - French Breakfast\n",
      "Victoria Shipp - Cherry Belle\n",
      "Henry McCorkindale - French Breakfast\n",
      "William De Satg - Snow Belle\n",
      "Skye Atkins - Cherry Belle\n",
      "Sean Hogben - Champion\n",
      "Claire Boelke - Cherry Belle\n",
      "Tristan Turley - Snow Belle\n",
      "Tyler Hansen - Champion\n",
      "Caleb Ride - Bunny Tail\n",
      "Archer Cathcart - April Cross\n",
      "Hamish Helena  - French Breakfast\n",
      "Agostino Milanesi - April Cross\n",
      "lilly wunderlich - french breakfast\n",
      "Brooke Mahomet - Sicily Giant\n",
      "Seth Bramston - Daikon\n",
      "Archer Kirwan - Cherry Belle\n",
      "Ettore Marcelo - Champion\n",
      "Blake D'Alton - Sicily Giant\n",
      "Jai Burgoyne - Bunny Tail\n",
      "Mikayla Minogue - April Cross\n",
      "Thomas Catt - April Cross\n",
      "Oscar Cocci - Daikon\n",
      "Claudia Boxall - Plum Purple\n",
      "Imogen Macaulay - Snow Belle\n",
      "Tyson Platt - Bunny Tail\n",
      "Isabelle Camden - White Icicle\n",
      "Kiara Maxted - Daikon\n",
      "Raffaella Trevisan - Daikon\n",
      "Xiang Hsü - Plum Purple\n",
      "Hudson Greene - Bunny Tail\n",
      "Ruby Wakefield - Cherry Belle\n",
      "Matilda Macarthur-Onslow - Plum Purple\n",
      "Jasmine Fetherstonhaugh - Snow Belle\n",
      "Andrew Bower - Bunny Tail\n",
      "Olindo De Luca - Cherry Belle\n",
      "Alexis Kelynack - French Breakfast\n",
      "Amy Clunie - White Icicle\n",
      "Kang Yu - Cherry Belle\n",
      "Henry Birdseye - Snow Belle\n",
      "dominic gale - april cross\n",
      "Edward Edmond - Snow Belle\n",
      "Raul Pinto - Cherry Belle\n",
      "Laura Bath - Red King\n",
      "John Bale - Cherry Belle\n",
      "Margherita Milani - Red King\n",
      "Hudson Devine - Champion\n",
      "Jaxon Cowles - Sicily Giant\n",
      "Cameron Embley - Sicily Giant\n",
      "Laura Wawn - Cherry Belle\n",
      "Li Ming Niu - Cherry Belle\n",
      "Eden Sheehan - Cherry Belle\n",
      "Taj Bjelke-Petersen - French Breakfast\n",
      "Declan Winston - White Icicle\n",
      "Chan Chao - Red King\n",
      "mikayla hebblethwaite - sicily giant\n",
      "Tristan Monson - Cherry Belle\n",
      "Leah Ross-Watt - Plum Purple\n",
      "Hu K'ung - Daikon\n",
      "Kaitlyn Carnegie - Champion\n",
      "Victoria Brereton - Plum Purple\n",
      "Keira Toutcher - Cherry Belle\n",
      "David Morgans - Daikon\n",
      "Norma Fiorentino - Red King\n",
      "Sarah Paten - Sicily  Giant\n",
      "Zac Cowles - Sicily Giant\n",
      "Brock Fiaschi - French Breakfast\n",
      "Eliza Naylor - French Breakfast\n",
      "Imogen Raws - Red King\n",
      "Jesse Abercrombie - Snow Belle\n",
      "James Luke - White Icicle\n",
      "Riley Stewart - White Icicle\n",
      "amelia blue - white icicle\n",
      "Cameron Pearce - Red King\n",
      "Ennio DeRose - French Breakfast\n",
      "Samuel Henschke - Sicily Giant\n",
      "Blake MacFarland - Cherry Belle\n",
      "Mary Randall - Cherry Belle\n",
      "luce de luca - snow belle\n",
      "Marcus Derbyshire - Bunny Tail\n",
      "Hunter McEachern - Bunny Tail\n",
      "Jasper Gibney - French Breakfast\n",
      "Lincoln  Hoare - French Breakfast\n",
      "Sofia Donnithorne - Snow Belle\n",
      "Anthony Stuart - Snow Belle\n",
      "Hamish Yarnold - April Cross\n",
      "Lucas Schuler - Plum Purple\n",
      "Milla Garling - French Breakfast\n",
      "Abigail Wiltshire - Bunny Tail\n",
      "Zane Wreford - Snow Belle\n",
      "Sean Glew - Daikon\n",
      "Ryan Aird - Red King\n",
      "Jasper Harford - Champion\n",
      "Charlie McCabe - Bunny Tail\n",
      "Rory Evenden - White Icicle\n",
      "Ebony Florence - Snow Belle\n",
      "Flynn Poninski - Daikon\n",
      "Ebony Lawlor - Bunny Tail\n",
      "Ethan Dickson - Bunny Tail\n",
      "Xavier Howchin - Bunny Tail\n",
      "Zane Weindorfer - Cherry Belle\n",
      "Sienna Dann - Snow Belle\n",
      "Eleuterio Lombardo - White Icicle\n",
      "Tyler Makutz - Champion\n",
      "Yong Hsiao - White Icicle\n",
      "Erin Binnie - Bunny Tail\n",
      "Phoebe Barwell - Plum Purple\n",
      "Dylan Barney - French Breakfast\n",
      "Tristan Charteris - April Cross\n",
      "Sebastian Helmore - Bunny Tail\n",
      "Thomas Darcy - Bunny Tail\n",
      "Quinzia Costa - Daikon\n",
      "Da-Xia Hsiao - French Breakfast\n",
      "Grace Frayne - Sicily Giant\n",
      "Toby Queale - White Icicle\n",
      "Logan Lackey - Plum Purple\n",
      "na t'ao - french breakfast\n",
      "Callum Prentice - Plum Purple\n",
      "Levi Ferry - Sicily Giant\n",
      "Hsin Tan - April Cross\n",
      "Lara Macarthur - French Breakfast\n",
      "Scarlett Bruny - Champion\n",
      "Procopio Zito - white icicle\n",
      "Jamie Ham - Bunny Tail\n",
      "Kaitlyn Mullen - Daikon\n",
      "Cameron Landseer - April Cross\n",
      "Jasper Alfred - White Icicle\n",
      "Andrew Coventry -  Cherry Belle\n",
      "Scarlett Schonell - Plum Purple\n",
      "Mia Alngindabu - Champion\n",
      "Claire Bisdee - Daikon\n",
      "Gabriella Beale - Cherry Belle\n",
      "Rebecca Petrie - Snow Belle\n",
      "Alexander McKean - Bunny Tail\n",
      "Cody Leakey - Plum Purple\n",
      "Sam Scarfe - Sicily Giant\n",
      "Angus Langley - French Breakfast\n",
      "Shi Shen - Sicily Giant\n",
      "Park Wu - Champion\n",
      "Isabelle Finney - April Cross\n",
      "Aaron Addison - Plum Purple\n",
      "Ethan Macdougall - Champion\n",
      "cody vale - red king\n",
      "Aidan Clutterbuck - French Breakfast\n",
      "Durante Ferri - White Icicle\n",
      "eliana baresi - white icicle\n"
     ]
    }
   ],
   "source": [
    "for line in open(\"radishsurvey.txt\"):\n",
    "    line = line.strip()\n",
    "    print(line)"
   ]
  },
  {
   "cell_type": "code",
   "execution_count": 8,
   "metadata": {
    "collapsed": false
   },
   "outputs": [
    {
     "name": "stderr",
     "output_type": "stream",
     "text": [
      "C:\\Users\\enomoha\\AppData\\Local\\Continuum\\Anaconda3\\lib\\site-packages\\matplotlib\\figure.py:402: UserWarning: matplotlib is currently using a non-GUI backend, so cannot show the figure\n  \"matplotlib is currently using a non-GUI backend, \"\n"
     ]
    }
   ],
   "source": [
    "import matplotlib.pyplot as plt \n",
    "fig = plt.figure()\n",
    "plt.plotfile('data.txt', delimiter=' ', cols=(0, 1),names=('DataSize(in MB)', 'TIme(in seconds)'), marker='o')\n",
    "fig.savefig('test.jpeg', bbox_inches='tight')\n",
    "fig.show()"
   ]
  },
  {
   "cell_type": "code",
   "execution_count": 5,
   "metadata": {
    "collapsed": false
   },
   "outputs": [
    {
     "data": {
      "image/png": "[encoded data removed]",
      "text/plain": [
       "<matplotlib.figure.Figure at 0x7fcb383fb080>"
      ]
     },
     "metadata": {},
     "output_type": "display_data"
    }
   ],
   "source": [
    "import matplotlib.pyplot as plt\n",
    "vals = [3,2,5,0,1]\n",
    "plt.plot(vals)\n",
    "plt.show()"
   ]
  },
  {
   "cell_type": "code",
   "execution_count": 2,
   "metadata": {
    "collapsed": true
   },
   "outputs": [
    {
     "ename": "FileNotFoundError",
     "evalue": "[Errno 2] No such file or directory: 'data.dat'",
     "traceback": [
      "\u001b[0;31m---------------------------------------------------------------------------\u001b[0m",
      "\u001b[0;31mFileNotFoundError\u001b[0m                         Traceback (most recent call last)",
      "\u001b[0;32m<ipython-input-2-093f4b5ae32b>\u001b[0m in \u001b[0;36m<module>\u001b[0;34m()\u001b[0m\n\u001b[1;32m      1\u001b[0m \u001b[1;32mimport\u001b[0m \u001b[0mmatplotlib\u001b[0m\u001b[1;33m.\u001b[0m\u001b[0mpyplot\u001b[0m \u001b[1;32mas\u001b[0m \u001b[0mplt\u001b[0m\u001b[1;33m\u001b[0m\u001b[0m\n\u001b[0;32m----> 2\u001b[0;31m \u001b[0mplt\u001b[0m\u001b[1;33m.\u001b[0m\u001b[0mplotfile\u001b[0m\u001b[1;33m(\u001b[0m\u001b[1;34m'data.dat'\u001b[0m\u001b[1;33m,\u001b[0m \u001b[0mdelimiter\u001b[0m\u001b[1;33m=\u001b[0m\u001b[1;34m' '\u001b[0m\u001b[1;33m,\u001b[0m \u001b[0mcols\u001b[0m\u001b[1;33m=\u001b[0m\u001b[1;33m(\u001b[0m\u001b[1;36m0\u001b[0m\u001b[1;33m,\u001b[0m \u001b[1;36m1\u001b[0m\u001b[1;33m)\u001b[0m\u001b[1;33m,\u001b[0m\u001b[0mnames\u001b[0m\u001b[1;33m=\u001b[0m\u001b[1;33m(\u001b[0m\u001b[1;34m'col1'\u001b[0m\u001b[1;33m,\u001b[0m \u001b[1;34m'col2'\u001b[0m\u001b[1;33m)\u001b[0m\u001b[1;33m,\u001b[0m \u001b[0mmarker\u001b[0m\u001b[1;33m=\u001b[0m\u001b[1;34m'o'\u001b[0m\u001b[1;33m)\u001b[0m\u001b[1;33m\u001b[0m\u001b[0m\n\u001b[0m",
      "\u001b[0;32mC:\\Users\\enomoha\\AppData\\Local\\Continuum\\Anaconda3\\lib\\site-packages\\matplotlib\\pyplot.py\u001b[0m in \u001b[0;36mplotfile\u001b[0;34m(fname, cols, plotfuncs, comments, skiprows, checkrows, delimiter, names, subplots, newfig, **kwargs)\u001b[0m\n\u001b[1;32m   2445\u001b[0m         \u001b[0mplotfuncs\u001b[0m \u001b[1;33m=\u001b[0m \u001b[0mdict\u001b[0m\u001b[1;33m(\u001b[0m\u001b[1;33m)\u001b[0m\u001b[1;33m\u001b[0m\u001b[0m\n\u001b[1;32m   2446\u001b[0m     r = mlab.csv2rec(fname, comments=comments, skiprows=skiprows,\n\u001b[0;32m-> 2447\u001b[0;31m                      checkrows=checkrows, delimiter=delimiter, names=names)\n\u001b[0m\u001b[1;32m   2448\u001b[0m \u001b[1;33m\u001b[0m\u001b[0m\n\u001b[1;32m   2449\u001b[0m     \u001b[1;32mdef\u001b[0m \u001b[0mgetname_val\u001b[0m\u001b[1;33m(\u001b[0m\u001b[0midentifier\u001b[0m\u001b[1;33m)\u001b[0m\u001b[1;33m:\u001b[0m\u001b[1;33m\u001b[0m\u001b[0m\n",
      "\u001b[0;32mC:\\Users\\enomoha\\AppData\\Local\\Continuum\\Anaconda3\\lib\\site-packages\\matplotlib\\mlab.py\u001b[0m in \u001b[0;36mcsv2rec\u001b[0;34m(fname, comments, skiprows, checkrows, delimiter, converterd, names, missing, missingd, use_mrecords, dayfirst, yearfirst)\u001b[0m\n\u001b[1;32m   2735\u001b[0m     \u001b[1;32mimport\u001b[0m \u001b[0mdatetime\u001b[0m\u001b[1;33m\u001b[0m\u001b[0m\n\u001b[1;32m   2736\u001b[0m \u001b[1;33m\u001b[0m\u001b[0m\n\u001b[0;32m-> 2737\u001b[0;31m     \u001b[0mfh\u001b[0m \u001b[1;33m=\u001b[0m \u001b[0mcbook\u001b[0m\u001b[1;33m.\u001b[0m\u001b[0mto_filehandle\u001b[0m\u001b[1;33m(\u001b[0m\u001b[0mfname\u001b[0m\u001b[1;33m)\u001b[0m\u001b[1;33m\u001b[0m\u001b[0m\n\u001b[0m\u001b[1;32m   2738\u001b[0m \u001b[1;33m\u001b[0m\u001b[0m\n\u001b[1;32m   2739\u001b[0m     \u001b[0mdelimiter\u001b[0m \u001b[1;33m=\u001b[0m \u001b[0mstr\u001b[0m\u001b[1;33m(\u001b[0m\u001b[0mdelimiter\u001b[0m\u001b[1;33m)\u001b[0m\u001b[1;33m\u001b[0m\u001b[0m\n",
      "\u001b[0;32mC:\\Users\\enomoha\\AppData\\Local\\Continuum\\Anaconda3\\lib\\site-packages\\matplotlib\\cbook.py\u001b[0m in \u001b[0;36mto_filehandle\u001b[0;34m(fname, flag, return_opened)\u001b[0m\n\u001b[1;32m    772\u001b[0m             \u001b[0mfh\u001b[0m \u001b[1;33m=\u001b[0m \u001b[0mbz2\u001b[0m\u001b[1;33m.\u001b[0m\u001b[0mBZ2File\u001b[0m\u001b[1;33m(\u001b[0m\u001b[0mfname\u001b[0m\u001b[1;33m,\u001b[0m \u001b[0mflag\u001b[0m\u001b[1;33m)\u001b[0m\u001b[1;33m\u001b[0m\u001b[0m\n\u001b[1;32m    773\u001b[0m         \u001b[1;32melse\u001b[0m\u001b[1;33m:\u001b[0m\u001b[1;33m\u001b[0m\u001b[0m\n\u001b[0;32m--> 774\u001b[0;31m             \u001b[0mfh\u001b[0m \u001b[1;33m=\u001b[0m \u001b[0mopen\u001b[0m\u001b[1;33m(\u001b[0m\u001b[0mfname\u001b[0m\u001b[1;33m,\u001b[0m \u001b[0mflag\u001b[0m\u001b[1;33m)\u001b[0m\u001b[1;33m\u001b[0m\u001b[0m\n\u001b[0m\u001b[1;32m    775\u001b[0m         \u001b[0mopened\u001b[0m \u001b[1;33m=\u001b[0m \u001b[1;32mTrue\u001b[0m\u001b[1;33m\u001b[0m\u001b[0m\n\u001b[1;32m    776\u001b[0m     \u001b[1;32melif\u001b[0m \u001b[0mhasattr\u001b[0m\u001b[1;33m(\u001b[0m\u001b[0mfname\u001b[0m\u001b[1;33m,\u001b[0m \u001b[1;34m'seek'\u001b[0m\u001b[1;33m)\u001b[0m\u001b[1;33m:\u001b[0m\u001b[1;33m\u001b[0m\u001b[0m\n",
      "\u001b[0;31mFileNotFoundError\u001b[0m: [Errno 2] No such file or directory: 'data.dat'"
     ],
     "output_type": "error"
    }
   ],
   "source": [
    "import matplotlib.pyplot as plt \n",
    "plt.plotfile('data.dat', delimiter=' ', cols=(0, 1),names=('col1', 'col2'), marker='o')"
   ]
  },
  {
   "cell_type": "code",
   "execution_count": 3,
   "metadata": {},
   "outputs": [],
   "source": [
    "import matplotlib.pyplot as plt \n",
    "plt.plotfile('data.txt', delimiter=' ', cols=(0, 1),names=('col1', 'col2'), marker='o')"
   ]
  },
  {
   "cell_type": "code",
   "execution_count": 5,
   "metadata": {
    "collapsed": false
   },
   "outputs": [
    {
     "data": {
      "image/png": "[encoded data removed]",
      "text/plain": [
       "<matplotlib.figure.Figure at 0x66d1eb8>"
      ]
     },
     "metadata": {},
     "output_type": "display_data"
    }
   ],
   "source": [
    "import matplotlib.pyplot as plt \n",
    "plt.plotfile('data.txt', delimiter=' ', cols=(0, 1),names=('DataSize', 'TIme'), marker='o')\n",
    "plt.show()"
   ]
  },
  {
   "cell_type": "code",
   "execution_count": 6,
   "metadata": {
    "collapsed": false
   },
   "outputs": [
    {
     "name": "stderr",
     "output_type": "stream",
     "text": [
      "C:\\Users\\enomoha\\AppData\\Local\\Continuum\\Anaconda3\\lib\\site-packages\\matplotlib\\figure.py:402: UserWarning: matplotlib is currently using a non-GUI backend, so cannot show the figure\n  \"matplotlib is currently using a non-GUI backend, \"\n"
     ]
    }
   ],
   "source": [
    "import matplotlib.pyplot as plt \n",
    "fig = plt.figure()\n",
    "plt.plotfile('data.txt', delimiter=' ', cols=(0, 1),names=('DataSize(in MB)', 'TIme(in seconds)'), marker='o')\n",
    "fig.show()\n",
    "fig.savefig('test.jpeg', bbox_inches='tight')"
   ]
  },
  {
   "cell_type": "code",
   "execution_count": 9,
   "metadata": {
    "collapsed": false
   },
   "outputs": [
    {
     "name": "stderr",
     "output_type": "stream",
     "text": [
      "C:\\Users\\enomoha\\AppData\\Local\\Continuum\\Anaconda3\\lib\\site-packages\\matplotlib\\figure.py:402: UserWarning: matplotlib is currently using a non-GUI backend, so cannot show the figure\n  \"matplotlib is currently using a non-GUI backend, \"\n"
     ]
    }
   ],
   "source": [
    "import matplotlib.pyplot as plt \n",
    "fig = plt.figure()\n",
    "plt.plotfile('data.txt', delimiter=' ', cols=(0, 1),names=('DataSize(in MB)', 'TIme(in seconds)'), marker='o')\n",
    "fig.show()"
   ]
  },
  {
   "cell_type": "code",
   "execution_count": 6,
   "metadata": {},
   "outputs": [
    {
     "data": {
      "image/png": "[encoded data removed]",
      "text/plain": [
       "<matplotlib.figure.Figure at 0x88ea9b0>"
      ]
     },
     "metadata": {},
     "output_type": "display_data"
    }
   ],
   "source": [
    "import matplotlib.pyplot as plt \n",
    "plt.plotfile('data.txt', delimiter=' ', cols=(0, 1),names=('DataSize(in MB)', 'Time(in Seconds'), marker='o')\n",
    "plt.savefig('testScenario_1.jpeg', bbox_inches='tight')\n",
    "plt.show()"
   ]
  },
  {
   "cell_type": "code",
   "execution_count": 9,
   "metadata": {},
   "outputs": [
    {
     "data": {
      "image/png": "[encoded data removed]",
      "text/plain": [
       "<matplotlib.figure.Figure at 0x87b4860>"
      ]
     },
     "metadata": {},
     "output_type": "display_data"
    }
   ],
   "source": [
    "import matplotlib.pyplot as plt \n",
    "plt.plotfile('data2.txt', delimiter=' ', cols=(0, 1),names=('DataSize(in MB)', 'Time(in Seconds'), marker='o')\n",
    "plt.savefig('testScenario_2.jpeg', bbox_inches='tight')\n",
    "plt.show()"
   ]
  },
  {
   "cell_type": "code",
   "execution_count": null,
   "metadata": {},
   "outputs": [],
   "source": [
    ""
   ]
  }
 ],
 "metadata": {
  "kernelspec": {
   "display_name": "Python 3",
   "language": "python",
   "name": "python3"
  },
  "language_info": {
   "codemirror_mode": {
    "name": "ipython",
    "version": 3.0
   },
   "file_extension": ".py",
   "mimetype": "text/x-python",
   "name": "python",
   "nbconvert_exporter": "python",
   "pygments_lexer": "ipython3",
   "version": "3.6.0"
  }
 },
 "nbformat": 4,
 "nbformat_minor": 0
}