{
 "cells": [
  {
   "cell_type": "code",
   "execution_count": 1,
   "metadata": {
    "collapsed": false
   },
   "outputs": [
    {
     "ename": "SyntaxError",
     "evalue": "Missing parentheses in call to 'print' (<ipython-input-1-3a9a2a56efa8>, line 1)",
     "output_type": "error",
     "traceback": [
      "\u001b[0;36m  File \u001b[0;32m\"<ipython-input-1-3a9a2a56efa8>\"\u001b[0;36m, line \u001b[0;32m1\u001b[0m\n\u001b[0;31m    print \"hello python again\"\u001b[0m\n\u001b[0m                             ^\u001b[0m\n\u001b[0;31mSyntaxError\u001b[0m\u001b[0;31m:\u001b[0m Missing parentheses in call to 'print'\n"
     ]
    }
   ],
   "source": [
    "print \"hello python again\""
   ]
  },
  {
   "cell_type": "code",
   "execution_count": null,
   "metadata": {
    "collapsed": true
   },
   "outputs": [],
   "source": []
  },
  {
   "cell_type": "code",
   "execution_count": 2,
   "metadata": {
    "collapsed": false
   },
   "outputs": [
    {
     "name": "stdout",
     "output_type": "stream",
     "text": [
      "hello python again\n"
     ]
    }
   ],
   "source": [
    "print (\"hello python again\")"
   ]
  },
  {
   "cell_type": "code",
   "execution_count": 3,
   "metadata": {
    "collapsed": true
   },
   "outputs": [],
   "source": [
    "###Let's create a shopping list\n"
   ]
  },
  {
   "cell_type": "code",
   "execution_count": 4,
   "metadata": {
    "collapsed": true
   },
   "outputs": [],
   "source": [
    "shopping_list={\"tomato\",\"onion\",\"fish\"}"
   ]
  },
  {
   "cell_type": "code",
   "execution_count": 5,
   "metadata": {
    "collapsed": false
   },
   "outputs": [
    {
     "ename": "SyntaxError",
     "evalue": "Missing parentheses in call to 'print' (<ipython-input-5-d0084345b23e>, line 1)",
     "output_type": "error",
     "traceback": [
      "\u001b[0;36m  File \u001b[0;32m\"<ipython-input-5-d0084345b23e>\"\u001b[0;36m, line \u001b[0;32m1\u001b[0m\n\u001b[0;31m    print shopping_list\u001b[0m\n\u001b[0m                      ^\u001b[0m\n\u001b[0;31mSyntaxError\u001b[0m\u001b[0;31m:\u001b[0m Missing parentheses in call to 'print'\n"
     ]
    }
   ],
   "source": [
    "print shopping_list\n"
   ]
  },
  {
   "cell_type": "code",
   "execution_count": 6,
   "metadata": {
    "collapsed": false
   },
   "outputs": [
    {
     "name": "stdout",
     "output_type": "stream",
     "text": [
      "{'onion', 'tomato', 'fish'}\n"
     ]
    }
   ],
   "source": [
    "print (shopping_list)\n"
   ]
  },
  {
   "cell_type": "code",
   "execution_count": 7,
   "metadata": {
    "collapsed": true
   },
   "outputs": [],
   "source": [
    "f = open(\"months.txt\")"
   ]
  },
  {
   "cell_type": "code",
   "execution_count": 8,
   "metadata": {
    "collapsed": false
   },
   "outputs": [
    {
     "name": "stdout",
     "output_type": "stream",
     "text": [
      "<built-in method read of _io.TextIOWrapper object at 0x7f4031f7fc18>\n"
     ]
    }
   ],
   "source": [
    "print(f.read);"
   ]
  },
  {
   "cell_type": "code",
   "execution_count": 9,
   "metadata": {
    "collapsed": false
   },
   "outputs": [
    {
     "name": "stdout",
     "output_type": "stream",
     "text": [
      "<built-in method read of _io.TextIOWrapper object at 0x7f4031f7fc18>\n"
     ]
    }
   ],
   "source": [
    "print(f.read)\n"
   ]
  },
  {
   "cell_type": "code",
   "execution_count": 10,
   "metadata": {
    "collapsed": false
   },
   "outputs": [
    {
     "name": "stdout",
     "output_type": "stream",
     "text": [
      "J\n",
      "a\n",
      "n\n",
      "u\n",
      "a\n",
      "r\n",
      "y\n",
      "\n",
      "\n",
      "F\n",
      "e\n",
      "b\n",
      "r\n",
      "u\n",
      "a\n",
      "r\n",
      "y\n",
      "\n",
      "\n",
      "M\n",
      "a\n",
      "r\n",
      "c\n",
      "h\n",
      "\n",
      "\n",
      "A\n",
      "p\n",
      "r\n",
      "i\n",
      "l\n",
      "\n",
      "\n",
      "M\n",
      "a\n",
      "y\n",
      "\n",
      "\n",
      "J\n",
      "u\n",
      "n\n",
      "e\n",
      "\n",
      "\n",
      "J\n",
      "u\n",
      "l\n",
      "y\n",
      "\n",
      "\n",
      "A\n",
      "u\n",
      "g\n",
      "u\n",
      "s\n",
      "t\n",
      "\n",
      "\n",
      "S\n",
      "e\n",
      "p\n",
      "t\n",
      "e\n",
      "m\n",
      "b\n",
      "e\n",
      "r\n",
      "\n",
      "\n",
      "O\n",
      "c\n",
      "t\n",
      "o\n",
      "b\n",
      "e\n",
      "r\n",
      "\n",
      "\n",
      "N\n",
      "o\n",
      "v\n",
      "e\n",
      "m\n",
      "b\n",
      "e\n",
      "r\n",
      "\n",
      "\n",
      "D\n",
      "e\n",
      "c\n",
      "e\n",
      "m\n",
      "b\n",
      "e\n",
      "r\n"
     ]
    }
   ],
   "source": [
    "f = open(\"months.txt\")\n",
    "next = f.read(1)\n",
    "while next != \"\":\n",
    "    print(next)\n",
    "    next = f.read(1)"
   ]
  },
  {
   "cell_type": "code",
   "execution_count": 11,
   "metadata": {
    "collapsed": false
   },
   "outputs": [
    {
     "name": "stdout",
     "output_type": "stream",
     "text": [
      "Ja\n",
      "nu\n",
      "ar\n",
      "y\n",
      "\n",
      "Fe\n",
      "br\n",
      "ua\n",
      "ry\n",
      "\n",
      "M\n",
      "ar\n",
      "ch\n",
      "\n",
      "A\n",
      "pr\n",
      "il\n",
      "\n",
      "M\n",
      "ay\n",
      "\n",
      "J\n",
      "un\n",
      "e\n",
      "\n",
      "Ju\n",
      "ly\n",
      "\n",
      "A\n",
      "ug\n",
      "us\n",
      "t\n",
      "\n",
      "Se\n",
      "pt\n",
      "em\n",
      "be\n",
      "r\n",
      "\n",
      "Oc\n",
      "to\n",
      "be\n",
      "r\n",
      "\n",
      "No\n",
      "ve\n",
      "mb\n",
      "er\n",
      "\n",
      "D\n",
      "ec\n",
      "em\n",
      "be\n",
      "r\n"
     ]
    }
   ],
   "source": [
    "f = open(\"months.txt\")\n",
    "next = f.read(2)\n",
    "while next != \"\":\n",
    "    print(next)\n",
    "    next = f.read(2)"
   ]
  },
  {
   "cell_type": "code",
   "execution_count": 12,
   "metadata": {
    "collapsed": false
   },
   "outputs": [
    {
     "name": "stdout",
     "output_type": "stream",
     "text": [
      "January\n",
      "February\n",
      "March\n",
      "April\n",
      "May\n",
      "June\n",
      "July\n",
      "August\n",
      "September\n",
      "October\n",
      "November\n",
      "December\n"
     ]
    }
   ],
   "source": [
    "f = open(\"months.txt\")\n",
    "next = f.read()\n",
    "while next != \"\":\n",
    "    print(next)\n",
    "    next = f.read()"
   ]
  },
  {
   "cell_type": "code",
   "execution_count": 13,
   "metadata": {
    "collapsed": false
   },
   "outputs": [
    {
     "name": "stdout",
     "output_type": "stream",
     "text": [
      "['January\\n', 'February\\n', 'March\\n', 'April\\n', 'May\\n', 'June\\n', 'July\\n', 'August\\n', 'September\\n', 'October\\n', 'November\\n', 'December']\n"
     ]
    }
   ],
   "source": [
    "##read everylines\n",
    "f = open(\"months.txt\")\n",
    "print(f.readlines())"
   ]
  },
  {
   "cell_type": "code",
   "execution_count": 14,
   "metadata": {
    "collapsed": false
   },
   "outputs": [
    {
     "name": "stdout",
     "output_type": "stream",
     "text": [
      "Month January\n",
      "Month February\n",
      "Month March\n",
      "Month April\n",
      "Month May\n",
      "Month June\n",
      "Month July\n",
      "Month August\n",
      "Month September\n",
      "Month October\n",
      "Month November\n",
      "Month December\n"
     ]
    }
   ],
   "source": [
    "f = open(\"months.txt\")\n",
    "for month in f.readlines():\n",
    "   print(\"Month \" + month.strip())"
   ]
  },
  {
   "cell_type": "code",
   "execution_count": null,
   "metadata": {
    "collapsed": true
   },
   "outputs": [],
   "source": [
    "## just a beauty\n",
    "\n",
    "f = open(\"months.txt\")\n",
    "for month in f:\n",
    "   print(\"Month \" + month.strip())"
   ]
  }
 ],
 "metadata": {
  "kernelspec": {
   "display_name": "Python 3",
   "language": "python",
   "name": "python3"
  },
  "language_info": {
   "codemirror_mode": {
    "name": "ipython",
    "version": 3
   },
   "file_extension": ".py",
   "mimetype": "text/x-python",
   "name": "python",
   "nbconvert_exporter": "python",
   "pygments_lexer": "ipython3",
   "version": "3.6.0"
  }
 },
 "nbformat": 4,
 "nbformat_minor": 2
}
